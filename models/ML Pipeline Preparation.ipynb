{
 "cells": [
  {
   "cell_type": "markdown",
   "metadata": {},
   "source": [
    "# ML Pipeline Preparation\n",
    "Follow the instructions below to help you create your ML pipeline.\n",
    "### 1. Import libraries and load data from database.\n",
    "- Import Python libraries\n",
    "- Load dataset from database with [`read_sql_table`](https://pandas.pydata.org/pandas-docs/stable/generated/pandas.read_sql_table.html)\n",
    "- Define feature and target variables X and Y"
   ]
  },
  {
   "cell_type": "code",
   "execution_count": 1,
   "metadata": {
    "ExecuteTime": {
     "end_time": "2024-10-10T13:50:24.920090700Z",
     "start_time": "2024-10-10T13:50:23.467270700Z"
    }
   },
   "outputs": [
    {
     "name": "stderr",
     "output_type": "stream",
     "text": [
      "[nltk_data] Downloading package punkt to\n",
      "[nltk_data]     C:\\Users\\johannes.misensky\\AppData\\Roaming\\nltk_data..\n",
      "[nltk_data]     .\n",
      "[nltk_data]   Package punkt is already up-to-date!\n",
      "[nltk_data] Downloading package wordnet to\n",
      "[nltk_data]     C:\\Users\\johannes.misensky\\AppData\\Roaming\\nltk_data..\n",
      "[nltk_data]     .\n",
      "[nltk_data]   Package wordnet is already up-to-date!\n",
      "[nltk_data] Downloading package punkt_tab to\n",
      "[nltk_data]     C:\\Users\\johannes.misensky\\AppData\\Roaming\\nltk_data..\n",
      "[nltk_data]     .\n",
      "[nltk_data]   Package punkt_tab is already up-to-date!\n"
     ]
    }
   ],
   "source": [
    "# import libraries\n",
    "import pandas as pd\n",
    "from sqlalchemy import create_engine, text\n",
    "from nltk.tokenize import word_tokenize\n",
    "import nltk\n",
    "nltk.download(['punkt', 'wordnet','punkt_tab' ])\n",
    "\n",
    "from nltk.stem import WordNetLemmatizer\n"
   ]
  },
  {
   "cell_type": "code",
   "execution_count": 2,
   "outputs": [],
   "source": [
    "from sklearn.pipeline import Pipeline\n",
    "from sklearn.datasets import make_multilabel_classification\n",
    "from sklearn.multioutput import MultiOutputClassifier\n",
    "from sklearn.feature_extraction.text import CountVectorizer, TfidfTransformer\n",
    "from sklearn.ensemble import RandomForestClassifier\n",
    "from sklearn.model_selection import train_test_split"
   ],
   "metadata": {
    "collapsed": false,
    "ExecuteTime": {
     "end_time": "2024-10-10T13:50:28.521503800Z",
     "start_time": "2024-10-10T13:50:28.454993300Z"
    }
   }
  },
  {
   "cell_type": "code",
   "execution_count": 14,
   "metadata": {
    "ExecuteTime": {
     "end_time": "2024-10-14T10:00:21.590380400Z",
     "start_time": "2024-10-14T10:00:20.946089900Z"
    }
   },
   "outputs": [],
   "source": [
    "# load data from database\n",
    "engine = create_engine('sqlite:///DisasterResponse.db')\n",
    "with engine.connect() as conn:\n",
    "    # Use the connection to execute the query and read into a DataFrame\n",
    "    df = pd.read_sql(text(\"SELECT * FROM Message\"), conn)\n",
    "\n",
    "X = df['message'].values\n",
    "Y = df.iloc[:, 6:].values\n",
    "\n"
   ]
  },
  {
   "cell_type": "markdown",
   "metadata": {},
   "source": [
    "### 2. Write a tokenization function to process your text data"
   ]
  },
  {
   "cell_type": "code",
   "execution_count": 4,
   "metadata": {
    "ExecuteTime": {
     "end_time": "2024-10-10T13:50:31.105240300Z",
     "start_time": "2024-10-10T13:50:31.090271500Z"
    }
   },
   "outputs": [],
   "source": [
    "def tokenize(text):\n",
    "    tokens = word_tokenize(text)\n",
    "    lemmatizer = WordNetLemmatizer()\n",
    "\n",
    "    clean_tokens = []\n",
    "    for tok in tokens:\n",
    "        clean_tok = lemmatizer.lemmatize(tok).lower().strip()\n",
    "        clean_tokens.append(clean_tok)\n",
    "\n",
    "    return clean_tokens\n"
   ]
  },
  {
   "cell_type": "markdown",
   "metadata": {},
   "source": [
    "### 3. Build a machine learning pipeline\n",
    "This machine pipeline should take in the `message` column as input and output classification results on the other 36 categories in the dataset. You may find the [MultiOutputClassifier](http://scikit-learn.org/stable/modules/generated/sklearn.multioutput.MultiOutputClassifier.html) helpful for predicting multiple target variables."
   ]
  },
  {
   "cell_type": "code",
   "execution_count": 5,
   "metadata": {
    "ExecuteTime": {
     "end_time": "2024-10-10T13:50:32.195693700Z",
     "start_time": "2024-10-10T13:50:32.190193500Z"
    }
   },
   "outputs": [],
   "source": [
    "pipeline = Pipeline([('cV', CountVectorizer(tokenizer=tokenize)),\n",
    "                      ('tfidf', TfidfTransformer()),\n",
    "                      ('multClas', MultiOutputClassifier(RandomForestClassifier()))])"
   ]
  },
  {
   "cell_type": "markdown",
   "metadata": {},
   "source": [
    "### 4. Train pipeline\n",
    "- Split data into train and test sets\n",
    "- Train pipeline"
   ]
  },
  {
   "cell_type": "code",
   "execution_count": 6,
   "metadata": {
    "ExecuteTime": {
     "end_time": "2024-10-10T13:57:50.918035600Z",
     "start_time": "2024-10-10T13:50:33.469621400Z"
    }
   },
   "outputs": [
    {
     "data": {
      "text/plain": "Pipeline(steps=[('cV',\n                 CountVectorizer(tokenizer=<function tokenize at 0x0000024DC4EFEC10>)),\n                ('tfidf', TfidfTransformer()),\n                ('multClas',\n                 MultiOutputClassifier(estimator=RandomForestClassifier()))])"
     },
     "execution_count": 6,
     "metadata": {},
     "output_type": "execute_result"
    }
   ],
   "source": [
    "X_train, X_test, y_train, y_test = train_test_split(X, Y)\n",
    "pipeline.fit(X_train, y_train)"
   ]
  },
  {
   "cell_type": "code",
   "execution_count": 7,
   "outputs": [],
   "source": [
    "y_pred = pipeline.predict(X_test)"
   ],
   "metadata": {
    "collapsed": false,
    "ExecuteTime": {
     "end_time": "2024-10-10T13:57:50.925016600Z",
     "start_time": "2024-10-10T13:55:06.890650600Z"
    }
   }
  },
  {
   "cell_type": "markdown",
   "metadata": {},
   "source": [
    "### 5. Test your model\n",
    "Report the f1 score, precision and recall for each output category of the dataset. You can do this by iterating through the columns and calling sklearn's `classification_report` on each."
   ]
  },
  {
   "cell_type": "code",
   "execution_count": 8,
   "outputs": [
    {
     "data": {
      "text/plain": "35"
     },
     "execution_count": 8,
     "metadata": {},
     "output_type": "execute_result"
    }
   ],
   "source": [
    "len(df.columns[6:])"
   ],
   "metadata": {
    "collapsed": false,
    "ExecuteTime": {
     "end_time": "2024-10-10T13:57:50.926014Z",
     "start_time": "2024-10-10T13:55:20.175918500Z"
    }
   }
  },
  {
   "cell_type": "code",
   "execution_count": 13,
   "metadata": {
    "ExecuteTime": {
     "end_time": "2024-10-10T15:26:17.099462600Z",
     "start_time": "2024-10-10T15:26:17.046249400Z"
    }
   },
   "outputs": [
    {
     "name": "stdout",
     "output_type": "stream",
     "text": [
      "                        precision    recall  f1-score   support\n",
      "\n",
      "               request       0.89      0.41      0.56      1149\n",
      "                 offer       0.00      0.00      0.00        32\n",
      "           aid_related       0.81      0.55      0.65      2703\n",
      "          medical_help       0.95      0.04      0.07       505\n",
      "      medical_products       0.76      0.07      0.13       315\n",
      "     search_and_rescue       0.78      0.03      0.07       203\n",
      "              security       1.00      0.01      0.02       127\n",
      "              military       0.67      0.03      0.05       211\n",
      "           child_alone       0.00      0.00      0.00         0\n",
      "                 water       0.91      0.29      0.44       395\n",
      "                  food       0.85      0.52      0.64       724\n",
      "               shelter       0.83      0.35      0.49       552\n",
      "              clothing       0.64      0.07      0.12       103\n",
      "                 money       0.57      0.03      0.05       145\n",
      "        missing_people       1.00      0.01      0.02        82\n",
      "              refugees       0.67      0.02      0.04       217\n",
      "                 death       0.80      0.14      0.24       301\n",
      "             other_aid       0.69      0.02      0.04       873\n",
      "infrastructure_related       0.00      0.00      0.00       433\n",
      "             transport       0.72      0.06      0.11       296\n",
      "             buildings       0.71      0.07      0.13       330\n",
      "           electricity       0.83      0.04      0.07       140\n",
      "                 tools       0.00      0.00      0.00        45\n",
      "             hospitals       0.00      0.00      0.00        69\n",
      "                 shops       0.00      0.00      0.00        28\n",
      "           aid_centers       0.00      0.00      0.00        76\n",
      "  other_infrastructure       0.00      0.00      0.00       301\n",
      "       weather_related       0.90      0.58      0.71      1820\n",
      "                floods       0.92      0.29      0.45       513\n",
      "                 storm       0.79      0.39      0.52       596\n",
      "                  fire       1.00      0.01      0.03        71\n",
      "            earthquake       0.93      0.76      0.83       614\n",
      "                  cold       0.75      0.02      0.04       132\n",
      "         other_weather       0.55      0.02      0.04       319\n",
      "         direct_report       0.88      0.35      0.50      1285\n",
      "\n",
      "             micro avg       0.86      0.33      0.48     15705\n",
      "             macro avg       0.62      0.15      0.20     15705\n",
      "          weighted avg       0.78      0.33      0.42     15705\n",
      "           samples avg       0.36      0.19      0.23     15705\n"
     ]
    },
    {
     "name": "stderr",
     "output_type": "stream",
     "text": [
      "C:\\Users\\johannes.misensky\\Anaconda3\\envs\\test\\lib\\site-packages\\sklearn\\metrics\\_classification.py:1318: UndefinedMetricWarning: Precision and F-score are ill-defined and being set to 0.0 in labels with no predicted samples. Use `zero_division` parameter to control this behavior.\n",
      "  _warn_prf(average, modifier, msg_start, len(result))\n",
      "C:\\Users\\johannes.misensky\\Anaconda3\\envs\\test\\lib\\site-packages\\sklearn\\metrics\\_classification.py:1318: UndefinedMetricWarning: Recall and F-score are ill-defined and being set to 0.0 in labels with no true samples. Use `zero_division` parameter to control this behavior.\n",
      "  _warn_prf(average, modifier, msg_start, len(result))\n",
      "C:\\Users\\johannes.misensky\\Anaconda3\\envs\\test\\lib\\site-packages\\sklearn\\metrics\\_classification.py:1318: UndefinedMetricWarning: Precision and F-score are ill-defined and being set to 0.0 in samples with no predicted labels. Use `zero_division` parameter to control this behavior.\n",
      "  _warn_prf(average, modifier, msg_start, len(result))\n",
      "C:\\Users\\johannes.misensky\\Anaconda3\\envs\\test\\lib\\site-packages\\sklearn\\metrics\\_classification.py:1318: UndefinedMetricWarning: Recall and F-score are ill-defined and being set to 0.0 in samples with no true labels. Use `zero_division` parameter to control this behavior.\n",
      "  _warn_prf(average, modifier, msg_start, len(result))\n"
     ]
    }
   ],
   "source": [
    "from sklearn.metrics import classification_report\n",
    "print(classification_report(y_test, y_pred, target_names= df.columns[6:]))"
   ]
  },
  {
   "cell_type": "markdown",
   "metadata": {},
   "source": [
    "### 6. Improve your model\n",
    "Use grid search to find better parameters. "
   ]
  },
  {
   "cell_type": "code",
   "execution_count": 10,
   "outputs": [
    {
     "name": "stdout",
     "output_type": "stream",
     "text": [
      "{'memory': None, 'steps': [('cV', CountVectorizer(tokenizer=<function tokenize at 0x0000024DC4EFEC10>)), ('tfidf', TfidfTransformer()), ('multClas', MultiOutputClassifier(estimator=RandomForestClassifier()))], 'verbose': False, 'cV': CountVectorizer(tokenizer=<function tokenize at 0x0000024DC4EFEC10>), 'tfidf': TfidfTransformer(), 'multClas': MultiOutputClassifier(estimator=RandomForestClassifier()), 'cV__analyzer': 'word', 'cV__binary': False, 'cV__decode_error': 'strict', 'cV__dtype': <class 'numpy.int64'>, 'cV__encoding': 'utf-8', 'cV__input': 'content', 'cV__lowercase': True, 'cV__max_df': 1.0, 'cV__max_features': None, 'cV__min_df': 1, 'cV__ngram_range': (1, 1), 'cV__preprocessor': None, 'cV__stop_words': None, 'cV__strip_accents': None, 'cV__token_pattern': '(?u)\\\\b\\\\w\\\\w+\\\\b', 'cV__tokenizer': <function tokenize at 0x0000024DC4EFEC10>, 'cV__vocabulary': None, 'tfidf__norm': 'l2', 'tfidf__smooth_idf': True, 'tfidf__sublinear_tf': False, 'tfidf__use_idf': True, 'multClas__estimator__bootstrap': True, 'multClas__estimator__ccp_alpha': 0.0, 'multClas__estimator__class_weight': None, 'multClas__estimator__criterion': 'gini', 'multClas__estimator__max_depth': None, 'multClas__estimator__max_features': 'auto', 'multClas__estimator__max_leaf_nodes': None, 'multClas__estimator__max_samples': None, 'multClas__estimator__min_impurity_decrease': 0.0, 'multClas__estimator__min_samples_leaf': 1, 'multClas__estimator__min_samples_split': 2, 'multClas__estimator__min_weight_fraction_leaf': 0.0, 'multClas__estimator__n_estimators': 100, 'multClas__estimator__n_jobs': None, 'multClas__estimator__oob_score': False, 'multClas__estimator__random_state': None, 'multClas__estimator__verbose': 0, 'multClas__estimator__warm_start': False, 'multClas__estimator': RandomForestClassifier(), 'multClas__n_jobs': None}\n"
     ]
    }
   ],
   "source": [
    "print(pipeline.get_params())"
   ],
   "metadata": {
    "collapsed": false,
    "ExecuteTime": {
     "end_time": "2024-10-10T13:57:50.926014Z",
     "start_time": "2024-10-10T13:55:20.236916300Z"
    }
   }
  },
  {
   "cell_type": "code",
   "execution_count": 10,
   "outputs": [],
   "source": [],
   "metadata": {
    "collapsed": false,
    "ExecuteTime": {
     "end_time": "2024-10-10T13:57:50.927011600Z",
     "start_time": "2024-10-10T13:55:20.252873400Z"
    }
   }
  },
  {
   "cell_type": "code",
   "execution_count": 11,
   "metadata": {
    "ExecuteTime": {
     "end_time": "2024-10-10T14:58:36.457808900Z",
     "start_time": "2024-10-10T13:55:20.272124100Z"
    }
   },
   "outputs": [
    {
     "name": "stdout",
     "output_type": "stream",
     "text": [
      "Fitting 3 folds for each of 72 candidates, totalling 216 fits\n",
      "Best Parameters:  {'cV__max_df': 1.0, 'cV__ngram_range': (1, 2), 'multClas__estimator__min_samples_split': 2, 'multClas__estimator__n_estimators': 100, 'tfidf__use_idf': False}\n"
     ]
    }
   ],
   "source": [
    "from sklearn.model_selection import GridSearchCV\n",
    "parameters = {\n",
    "    'cV__max_df': [0.75, 1.0],  # max_df: Ignore terms that appear in more than x% of the documents\n",
    "    'cV__ngram_range': [(1, 1), (1, 2)],  # n-grams: Unigrams or bigrams\n",
    "    'tfidf__use_idf': [True, False],  # Use or not use IDF\n",
    "    'multClas__estimator__n_estimators': [10, 50, 100],  # Number of trees in the forest (RandomForest)\n",
    "    'multClas__estimator__min_samples_split': [2, 4, 6],  # Minimum number of samples required to split a node\n",
    "}\n",
    "\n",
    "\n",
    "cv = GridSearchCV(pipeline, parameters, cv=3, verbose=3, n_jobs=-1)\n",
    "\n",
    "cv.fit(X_train, y_train)  # Assuming you have already split your data into X_train and Y_train\n",
    "\n",
    "# Print the best parameters\n",
    "print(\"Best Parameters: \", cv.best_params_)\n",
    "\n",
    "# Evaluate the best estimator on test data\n",
    "best_model = cv.best_estimator_\n",
    "y_pred = best_model.predict(X_test)"
   ]
  },
  {
   "cell_type": "markdown",
   "metadata": {},
   "source": [
    "### 7. Test your model\n",
    "Show the accuracy, precision, and recall of the tuned model.  \n",
    "\n",
    "Since this project focuses on code quality, process, and  pipelines, there is no minimum performance metric needed to pass. However, make sure to fine tune your models for accuracy, precision and recall to make your project stand out - especially for your portfolio!"
   ]
  },
  {
   "cell_type": "code",
   "execution_count": 12,
   "metadata": {
    "ExecuteTime": {
     "end_time": "2024-10-10T15:25:44.011376400Z",
     "start_time": "2024-10-10T15:25:42.975045100Z"
    }
   },
   "outputs": [],
   "source": []
  },
  {
   "cell_type": "markdown",
   "metadata": {},
   "source": [
    "### 8. Try improving your model further. Here are a few ideas:\n",
    "* try other machine learning algorithms\n",
    "* add other features besides the TF-IDF"
   ]
  },
  {
   "cell_type": "code",
   "execution_count": null,
   "metadata": {},
   "outputs": [],
   "source": []
  },
  {
   "cell_type": "markdown",
   "metadata": {},
   "source": [
    "### 9. Export your model as a pickle file"
   ]
  },
  {
   "cell_type": "code",
   "execution_count": null,
   "metadata": {},
   "outputs": [],
   "source": [
    "import pickle\n",
    "\n",
    "with open(\"best_model.pkl\", \"wb\") as f:\n",
    "    pickle.dump(best_model, f)"
   ]
  },
  {
   "cell_type": "markdown",
   "metadata": {},
   "source": [
    "### 10. Use this notebook to complete `train_classifier.py`\n",
    "Use the template file attached in the Resources folder to write a script that runs the steps above to create a database and export a model based on a new dataset specified by the user."
   ]
  },
  {
   "cell_type": "code",
   "execution_count": null,
   "metadata": {},
   "outputs": [],
   "source": []
  }
 ],
 "metadata": {
  "kernelspec": {
   "display_name": "Python 3",
   "language": "python",
   "name": "python3"
  },
  "language_info": {
   "codemirror_mode": {
    "name": "ipython",
    "version": 3
   },
   "file_extension": ".py",
   "mimetype": "text/x-python",
   "name": "python",
   "nbconvert_exporter": "python",
   "pygments_lexer": "ipython3",
   "version": "3.6.3"
  }
 },
 "nbformat": 4,
 "nbformat_minor": 2
}
